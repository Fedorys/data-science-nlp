{
 "cells": [
  {
   "cell_type": "markdown",
   "metadata": {},
   "source": [
    "# Синтаксис \n",
    "\n",
    "**Синтаксис** — одна из частей грамматики, которая исследует взаимодействие слов в словосочетании и предложении (вторая часть — морфология). \n",
    "\n",
    "Формальные (структурные) подходы к синтаксису:\n",
    "\n",
    "1. Грамматика составляющих\n",
    "2. Грамматика зависимостей\n",
    "\n",
    "## Грамматика составляющих\n",
    "*constituency grammar, phrase structure grammar*\n",
    "\n",
    "* Составляющая (англ. constituent) — структурная единица (отрезок) предложения, целиком составленная из более тесно связанных друг с другом составляющих меньшего размера\n",
    "* Любая сложная грамматическая единица складывается из двух более простых и не пересекающихся единиц, или непосредственных составляющих (англ. immediate constituents)\n",
    "* Предложения  представлено в виде иерархии непосредственных составляющих\n",
    "* Составляющая, включающая более одного слова — группа (англ. phrase)\n",
    "* Слово, соответствующее корневому узлу в дереве зависимостей, описывающем группу — ее вершина (англ. head)\n",
    "* Много используется в американской формальной лингвистике, в частности в генеративной грамматике Н. Хомского\n",
    "\n",
    "<img src=\"https://upload.wikimedia.org/wikipedia/commons/thumb/6/6e/ParseTree.svg/800px-ParseTree.svg.png\" width=\"200\">\n",
    "\n",
    "### Виды синтаксических групп\n",
    "Называются по частям речи вершин.\n",
    "* NP — именная группа (группа существительного, англ. noun phrase)\n",
    "* AP — группа прилагательного (англ. adjectival phrase\n",
    "* AdvP — наречная группа (англ. adverbial phrase)\n",
    "* PP — предложная группа (англ. prepositional phrase)\n",
    "* VP — глагольная группа (англ. verb phrase)\n",
    "* S — предложение (англ. sentence), всегда являетс самой верхней группой\n",
    "\n",
    "## Грамматика зависимостей\n",
    "\n",
    "*dependency grammar, dependency parsing*\n",
    "\n",
    "* Именно ее в упрощенном виде проходят в школе\n",
    "* Сейчас является стандартом в автоматической обработке текста, т.к. является более гибкой (например, позволяет описывать языки со свободным порядком слов)\n",
    "* Стандарт разметки [Universal Depedencies](https://universaldependencies.org/), открытые корпуса\n",
    "* Строй предложения — иерархии компонентов, между которыми установлено отношение зависимости\n",
    "* Есть вершины и зависимые от них элементы, во главе всего — глагол\n",
    "* Важны типы связей! [Виды связей](https://universaldependencies.org/u/dep/index.html) и [основные принципы синтаксической разметки](https://universaldependencies.org/u/overview/syntax.html)\n",
    "* Хорошая и важная [статья](https://cl.lingfil.uu.se/~nivre/docs/05133.pdf) Йоакима Нивре о грамматике зависимостей в NLP\n",
    "\n",
    "<img src=\"https://www.inf.ed.ac.uk/teaching/courses/anlp/lectures/17/depend2.png\" width=\"700\">\n",
    "\n",
    "## Сравнение\n",
    "\n",
    "Разбор одного и того же предложения в грамматике зависимостей и в грамматике составляющих (из статьи Нивре). Формальное представление структуры предложения как в грамматике зависимостей, так и в грамматике составляющих называется **деревом**.\n",
    "\n",
    "\n",
    "[Частеречные теги из корпуса PennTreebank](https://www.ling.upenn.edu/courses/Fall_2003/ling001/penn_treebank_pos.html), которые используются на картинке (они старые и только для английского, вы их уже почти нигде не увидите). \n",
    "\n",
    "![](img/dep-nivre.png)"
   ]
  },
  {
   "cell_type": "markdown",
   "metadata": {},
   "source": [
    "## Universal Dependencies\n",
    "\n",
    "### Формат CoNLL-U\n",
    "\n",
    "Существует несколько форматов записи деревьев зависимостей, но самый популярный и общеиспользуемый — [CoNLL-U](http://universaldependencies.org/format.html). \n",
    "\n",
    "* таблица с 10 колонками, разделитель — табуляция\n",
    "* ячейки не могут быть пустыми, для заполнения используется _ (нижнее подчеркивание)\n",
    "* на каждой строке по одному токену, предложения разделяются пустой строкой\n",
    "* комментарии обозначаются #\n",
    "\n",
    "**Поля таблицы**\n",
    "\n",
    "1. ID: индекс слова, нумерация с 1 для каждого нового предложения\n",
    "2. FORM: токен (форма слова, цифра, знак пунктуации)\n",
    "3. LEMMA: начальная форма\n",
    "4. UPOS: частеречный тег в формате UPOS\n",
    "5. XPOS: лингвоспецифическая часть речи\n",
    "6. FEATS: морфологическая информация: род, число, падеж и т.п.\n",
    "7. HEAD: id родителя (слова, от которого зависит данное)\n",
    "8. DEPREL: тип зависимости \n",
    "9. DEPS: альтернатвный подграф в виде пар \"вершина–тип зависимости\" (не будем углубляться :)\n",
    "10. MISC: любые другие пометы\n",
    "\n",
    "Как это выглядит:\n",
    "\n",
    "![](img/dep-annot.png)\n",
    "\n",
    "### Визуализация\n",
    "\n",
    "Отрытый инструмент для визуализации, ручной разметки и конвертации в другие форматы — **UD Annotatrix**\n",
    "* [Online-интерфейс](https://maryszmary.github.io/ud-annotatrix/standalone/annotator.html)\n",
    "* [Репозиторий](https://github.com/jonorthwash/ud-annotatrix)\n",
    "\n",
    "\n",
    "### Как считывать данные\n",
    "\n",
    "Для этого есть библиотека [conllu](https://github.com/EmilStenstrom/conllu), устанавливается с помощью `pip`."
   ]
  },
  {
   "cell_type": "code",
   "execution_count": 27,
   "metadata": {},
   "outputs": [],
   "source": [
    "from conllu import parse"
   ]
  },
  {
   "cell_type": "markdown",
   "metadata": {},
   "source": [
    "Пример из [SynTagRus](https://github.com/UniversalDependencies/UD_Russian-SynTagRus), русского UD-трибанка. **Трибанком** обычно называют набор синтаксически размеченных предложений."
   ]
  },
  {
   "cell_type": "code",
   "execution_count": 43,
   "metadata": {},
   "outputs": [],
   "source": [
    "my_example = \"\"\"\n",
    "# sent_id = 2003Armeniya.xml_138\n",
    "# text = Перспективы развития сферы высоких технологий.\n",
    "1\tПерспективы\tперспектива\tNOUN\t_\tAnimacy=Inan|Case=Nom|Gender=Fem|Number=Plur\t0\tROOT\t0:root\t_\n",
    "2\tразвития\tразвитие\tNOUN\t_\tAnimacy=Inan|Case=Gen|Gender=Neut|Number=Sing\t1\tnmod\t1:nmod\t_\n",
    "3\tсферы\tсфера\tNOUN\t_\tAnimacy=Inan|Case=Gen|Gender=Fem|Number=Sing\t2\tnmod\t2:nmod\t_\n",
    "4\tвысоких\tвысокий\tADJ\t_\tCase=Gen|Degree=Pos|Number=Plur\t5\tamod\t5:amod\t_\n",
    "5\tтехнологий\tтехнология\tNOUN\t_\tAnimacy=Inan|Case=Gen|Gender=Fem|Number=Plur\t3\tnmod\t3:nmod\tSpaceAfter=No\n",
    "6\t.\t.\tPUNCT\t_\t_\t1\tpunct\t1:punct\t_\n",
    "\"\"\""
   ]
  },
  {
   "cell_type": "code",
   "execution_count": 8,
   "metadata": {},
   "outputs": [
    {
     "data": {
      "text/plain": [
       "OrderedDict([('id', 1),\n",
       "             ('form', 'Перспективы'),\n",
       "             ('lemma', 'перспектива'),\n",
       "             ('upostag', 'NOUN'),\n",
       "             ('xpostag', None),\n",
       "             ('feats',\n",
       "              OrderedDict([('Animacy', 'Inan'),\n",
       "                           ('Case', 'Nom'),\n",
       "                           ('Gender', 'Fem'),\n",
       "                           ('Number', 'Plur')])),\n",
       "             ('head', 0),\n",
       "             ('deprel', 'ROOT'),\n",
       "             ('deps', [('root', 0)]),\n",
       "             ('misc', None)])"
      ]
     },
     "execution_count": 8,
     "metadata": {},
     "output_type": "execute_result"
    }
   ],
   "source": [
    "sentences = parse(my_example)\n",
    "sentence = sentences[0]\n",
    "\n",
    "# первый токен в примере\n",
    "sentence[0]"
   ]
  },
  {
   "cell_type": "code",
   "execution_count": 9,
   "metadata": {},
   "outputs": [
    {
     "data": {
      "text/plain": [
       "OrderedDict([('id', 6),\n",
       "             ('form', '.'),\n",
       "             ('lemma', '.'),\n",
       "             ('upostag', 'PUNCT'),\n",
       "             ('xpostag', None),\n",
       "             ('feats', None),\n",
       "             ('head', 1),\n",
       "             ('deprel', 'punct'),\n",
       "             ('deps', [('punct', 1)]),\n",
       "             ('misc', None)])"
      ]
     },
     "execution_count": 9,
     "metadata": {},
     "output_type": "execute_result"
    }
   ],
   "source": [
    "# последний токен\n",
    "sentence[-1]"
   ]
  },
  {
   "cell_type": "markdown",
   "metadata": {},
   "source": [
    "### Визуализация в питоне\n",
    "\n",
    "В `nltk` есть модуль `DependencyGraph`, который умеет рисовать деревья (и ещё многое другое). Для того, чтобы визуализация работала корректно, ему нужна зависимость — `graphviz` (ставится с помощью `pip`).\n",
    "\n",
    "В отличие от `conllu`, `DependencyGraph` не справляется с комментариями, поэтому придётся их убрать. Кроме того, ему обязательно нужен `deprel` *ROOT* в верхнем регистре, иначе он не находит корень."
   ]
  },
  {
   "cell_type": "code",
   "execution_count": 44,
   "metadata": {},
   "outputs": [],
   "source": [
    "from nltk import DependencyGraph\n",
    "\n",
    "sents = []\n",
    "for sent in my_example.split('\\n\\n'):\n",
    "    # убираем коменты\n",
    "    sent = '\\n'.join([line for line in sent.split('\\n') if not line.startswith('#')])\n",
    "    # заменяем deprel для root\n",
    "    sent = sent.replace('\\troot\\t', '\\tROOT\\t')\n",
    "    sents.append(sent)"
   ]
  },
  {
   "cell_type": "code",
   "execution_count": 14,
   "metadata": {},
   "outputs": [],
   "source": [
    "graph = DependencyGraph(tree_str=sents[0])"
   ]
  },
  {
   "cell_type": "code",
   "execution_count": 15,
   "metadata": {},
   "outputs": [
    {
     "name": "stdout",
     "output_type": "stream",
     "text": [
      "    Перспективы           \n",
      "  _______|__________       \n",
      " |               развития \n",
      " |                  |      \n",
      " |                сферы   \n",
      " |                  |      \n",
      " |              технологий\n",
      " |                  |      \n",
      " .               высоких  \n",
      "\n",
      "None\n"
     ]
    }
   ],
   "source": [
    "tree = graph.tree()\n",
    "print(tree.pretty_print())"
   ]
  },
  {
   "cell_type": "markdown",
   "metadata": {},
   "source": [
    "## UDPipe\n",
    "\n",
    "Есть разные инструменты для парсинга зависимостей. Сегодня мы будем рабтать с [UDPipe](http://ufal.mff.cuni.cz/udpipe). UDPipe умеет парсить текст с помощью готовых моделей (которые можно скачать [здесь](https://github.com/jwijffels/udpipe.models.ud.2.0/tree/master/inst/udpipe-ud-2.0-170801)) и обучать модели на своих трибанках.\n",
    "\n",
    "Собственно, в UDPipe есть три вида моделей:\n",
    "* токенизатор (разделить предложение не токены, сделать заготовку для CoNLL-U)\n",
    "* тэггер (разметить части речи)\n",
    "* сам парсер (проставить каждому токену `head` и `deprel`)\n",
    "\n",
    "Мы сегодня не будем обучать новых моделей (это слишком долго), а используем готовую модель для русского.\n",
    "\n",
    "### The Python binding\n",
    "\n",
    "У udpipe есть питоновская обвязка `ufal.udpipe`. Она довольно [плохо задокументирована](https://pypi.org/project/ufal.udpipe/), но зато можно использовать прямо в питоне.\n",
    "\n",
    "**NB!** Чтобы у вас номально установился `ufal.udpipe`, нужно сначала установить `SWIG` (скачать можно [отсюда](http://www.swig.org/download.html)) и прописать путь к нему в `PATH`."
   ]
  },
  {
   "cell_type": "code",
   "execution_count": 8,
   "metadata": {},
   "outputs": [],
   "source": [
    "from ufal.udpipe import Model, Pipeline\n",
    "model = Model.load('./data/russian-ud-2.0-170801.udpipe') # путь к модели"
   ]
  },
  {
   "cell_type": "code",
   "execution_count": 9,
   "metadata": {},
   "outputs": [
    {
     "data": {
      "text/plain": [
       "<Swig Object of type 'model *' at 0x0000023C0E311ED8>"
      ]
     },
     "execution_count": 9,
     "metadata": {},
     "output_type": "execute_result"
    }
   ],
   "source": [
    "# если успех, должно быть так (model != None)\n",
    "model"
   ]
  },
  {
   "cell_type": "code",
   "execution_count": 11,
   "metadata": {},
   "outputs": [
    {
     "name": "stdout",
     "output_type": "stream",
     "text": [
      "# newdoc\n",
      "# newpar\n",
      "# sent_id = 1\n",
      "# text = Если б мне платили каждый раз.\n",
      "1\tЕсли\tЕСЛИ\tSCONJ\tIN\t_\t4\tmark\t_\t_\n",
      "2\tб\tБ\tNOUN\tNN\tAnimacy=Anim|Case=Gen|Gender=Masc|Number=Plur\t4\tobl\t_\t_\n",
      "3\tмне\tЯ\tPRON\tPRP\tCase=Dat|Number=Sing|Person=1\t4\tiobj\t_\t_\n",
      "4\tплатили\tПЛАТИТЬ\tVERB\tVBC\tAspect=Imp|Mood=Ind|Number=Plur|Tense=Past|VerbForm=Fin\t0\troot\t_\t_\n",
      "5\tкаждый\tКАЖДЫЙ\tDET\tDT\tAnimacy=Inan|Case=Acc|Gender=Masc|Number=Sing\t6\tamod\t_\t_\n",
      "6\tраз\tРАЗ\tNOUN\tNN\tAnimacy=Inan|Case=Acc|Gender=Masc|Number=Sing\t4\tadvmod\t_\tSpaceAfter=No\n",
      "7\t.\t.\tPUNCT\t.\t_\t4\tpunct\t_\t_\n",
      "\n",
      "# sent_id = 2\n",
      "# text = Каждый раз, когда я думаю о тебе.\n",
      "1\tКаждый\tКАЖДЫЙ\tDET\tDT\tAnimacy=Inan|Case=Acc|Gender=Masc|Number=Sing\t2\tamod\t_\t_\n",
      "2\tраз\tРАЗ\tNOUN\tNN\tAnimacy=Inan|Case=Acc|Gender=Masc|Number=Sing\t6\tadvmod\t_\tSpaceAfter=No\n",
      "3\t,\t,\tPUNCT\t,\t_\t6\tpunct\t_\t_\n",
      "4\tкогда\tКОГДА\tADV\tWRB\t_\t6\tadvmod\t_\t_\n",
      "5\tя\tЯ\tPRON\tPRP\tCase=Nom|Number=Sing|Person=1\t6\tnsubj\t_\t_\n",
      "6\tдумаю\tдУМАТЬ\tVERB\tVBC\tAspect=Imp|Mood=Ind|Number=Sing|Person=1|Tense=Pres|VerbForm=Fin\t0\troot\t_\t_\n",
      "7\tо\tО\tADP\tIN\t_\t8\tcase\t_\t_\n",
      "8\tтебе\tТЫ\tPRON\tPRP\tCase=Dat|Number=Sing|Person=2\t6\tobl\t_\tSpaceAfter=No\n",
      "9\t.\t.\tPUNCT\t.\t_\t6\tpunct\t_\tSpacesAfter=\\n\n",
      "\n",
      "\n"
     ]
    }
   ],
   "source": [
    "pipeline = Pipeline(model, 'generic_tokenizer', '', '', '')\n",
    "example = \"Если б мне платили каждый раз. Каждый раз, когда я думаю о тебе.\"\n",
    "parsed = pipeline.process(example)\n",
    "print(parsed)"
   ]
  },
  {
   "cell_type": "markdown",
   "metadata": {},
   "source": [
    "UDPipe токенизировал и лематизировал текст, а также сделал POS-tagging и, собственно, синтаксический разбор.\n",
    "\n",
    "### Command line interface\n",
    "\n",
    "Но с обвязкой бывают проблемы, и вообще довольно удобно пользоваться прекомпилированной утилитой `udpipe` из шелла. Она скачивается [здесь](https://github.com/ufal/udpipe/releases/tag/v1.2.0). Внутри бинарники для всех популярных ОС, выбираем свой и прописываем путь к нему в `PATH`.\n",
    "\n",
    "Синтаксис:"
   ]
  },
  {
   "cell_type": "code",
   "execution_count": 17,
   "metadata": {},
   "outputs": [
    {
     "name": "stderr",
     "output_type": "stream",
     "text": [
      "Usage: D:\\Downloads\\udpipe-1.2.0-bin\\bin-win64\\udpipe.exe [running_opts] model_file [input_files]\n",
      "       D:\\Downloads\\udpipe-1.2.0-bin\\bin-win64\\udpipe.exe --train [training_opts] model_file [input_files]\n",
      "       D:\\Downloads\\udpipe-1.2.0-bin\\bin-win64\\udpipe.exe --detokenize [detokenize_opts] raw_text_file [input_files]\n",
      "Running opts: --accuracy (measure accuracy only)\n",
      "              --input=[conllu|generic_tokenizer|horizontal|vertical]\n",
      "              --immediate (process sentences immediately during loading)\n",
      "              --outfile=output file template\n",
      "              --output=[conllu|epe|matxin|horizontal|plaintext|vertical]\n",
      "              --tokenize (perform tokenization)\n",
      "              --tokenizer=tokenizer options, implies --tokenize\n",
      "              --tag (perform tagging)\n",
      "              --tagger=tagger options, implies --tag\n",
      "              --parse (perform parsing)\n",
      "              --parser=parser options, implies --parse\n",
      "Training opts: --method=[morphodita_parsito] which method to use\n",
      "               --heldout=heldout data file name\n",
      "               --tokenizer=tokenizer options\n",
      "               --tagger=tagger options\n",
      "               --parser=parser options\n",
      "Detokenize opts: --outfile=output file template\n",
      "Generic opts: --version\n",
      "              --help\n"
     ]
    }
   ],
   "source": [
    "!udpipe"
   ]
  },
  {
   "cell_type": "code",
   "execution_count": 19,
   "metadata": {
    "scrolled": true
   },
   "outputs": [],
   "source": [
    "with open('example.txt', 'w', encoding='utf-8') as f:\n",
    "    f.write(example)"
   ]
  },
  {
   "cell_type": "code",
   "execution_count": 24,
   "metadata": {},
   "outputs": [
    {
     "name": "stderr",
     "output_type": "stream",
     "text": [
      "Loading UDPipe model: done.\n"
     ]
    }
   ],
   "source": [
    "!udpipe --tokenize --tag --parse .\\data\\russian-ud-2.0-170801.udpipe example.txt > parsed_example.conllu"
   ]
  },
  {
   "cell_type": "code",
   "execution_count": 32,
   "metadata": {},
   "outputs": [
    {
     "name": "stdout",
     "output_type": "stream",
     "text": [
      "# newdoc id = example.txt\n",
      "# newpar\n",
      "# sent_id = 1\n",
      "# text = Если б мне платили каждый раз.\n",
      "1\tЕсли\tЕСЛИ\tSCONJ\tIN\t_\t4\tmark\t_\t_\n",
      "2\tб\tБ\tNOUN\tNN\tAnimacy=Anim|Case=Gen|Gender=Masc|Number=Plur\t4\tobl\t_\t_\n",
      "3\tмне\tЯ\tPRON\tPRP\tCase=Dat|Number=Sing|Person=1\t4\tiobj\t_\t_\n",
      "4\tплатили\tПЛАТИТЬ\tVERB\tVBC\tAspect=Imp|Mood=Ind|Number=Plur|Tense=Past|VerbForm=Fin\t0\troot\t_\t_\n",
      "5\tкаждый\tКАЖДЫЙ\tDET\tDT\tAnimacy=Inan|Case=Acc|Gender=Masc|Number=Sing\t6\tamod\t_\t_\n",
      "6\tраз\tРАЗ\tNOUN\tNN\tAnimacy=Inan|Case=Acc|Gender=Masc|Number=Sing\t4\tadvmod\t_\tSpaceAfter=No\n",
      "7\t.\t.\tPUNCT\t.\t_\t4\tpunct\t_\t_\n",
      "\n",
      "# sent_id = 2\n",
      "# text = Каждый раз, когда я думаю о тебе.\n",
      "1\tКаждый\tКАЖДЫЙ\tDET\tDT\tAnimacy=Inan|Case=Acc|Gender=Masc|Number=Sing\t2\tamod\t_\t_\n",
      "2\tраз\tРАЗ\tNOUN\tNN\tAnimacy=Inan|Case=Acc|Gender=Masc|Number=Sing\t6\tadvmod\t_\tSpaceAfter=No\n",
      "3\t,\t,\tPUNCT\t,\t_\t6\tpunct\t_\t_\n",
      "4\tкогда\tКОГДА\tADV\tWRB\t_\t6\tadvmod\t_\t_\n",
      "5\tя\tЯ\tPRON\tPRP\tCase=Nom|Number=Sing|Person=1\t6\tnsubj\t_\t_\n",
      "6\tдумаю\tдУМАТЬ\tVERB\tVBC\tAspect=Imp|Mood=Ind|Number=Sing|Person=1|Tense=Pres|VerbForm=Fin\t0\troot\t_\t_\n",
      "7\tо\tО\tADP\tIN\t_\t8\tcase\t_\t_\n",
      "8\tтебе\tТЫ\tPRON\tPRP\tCase=Dat|Number=Sing|Person=2\t6\tobl\t_\tSpaceAfter=No\n",
      "9\t.\t.\tPUNCT\t.\t_\t6\tpunct\t_\tSpacesAfter=\\n\n",
      "\n",
      "\n"
     ]
    }
   ],
   "source": [
    "with open('parsed_example.conllu', 'r', encoding='utf-8') as f:\n",
    "    print(f.read())"
   ]
  },
  {
   "cell_type": "markdown",
   "metadata": {},
   "source": [
    "## Главред\n",
    "\n",
    "Главред — [сервис](https://glvrd.ru/) для корекции стиля текста. Кроме интерфейса у него есть [API](https://glvrd.ru/api/)!\n",
    "\n",
    "Попробуем имплементировать несколько функций, которые делают что-то похожее на основе синтаксиса.\n",
    "\n",
    "### Однородные члены\n",
    "\n",
    "Возьмём простой пример: предложение, перегруженное однородными членами."
   ]
  },
  {
   "cell_type": "code",
   "execution_count": 36,
   "metadata": {},
   "outputs": [],
   "source": [
    "sent = \"\"\"\n",
    "Заходит она в трамвай, подходит к компостеру, открывает сумку, достает кошелку, закрывает сумку, открывает кошелку,\n",
    "достает кошелек, закрывает кошелку, открывает сумку, убирает кошелку, закрывает сумку, открывает кошелек, достает \n",
    "билетик...\n",
    "\"\"\""
   ]
  },
  {
   "cell_type": "code",
   "execution_count": 37,
   "metadata": {},
   "outputs": [
    {
     "name": "stdout",
     "output_type": "stream",
     "text": [
      "# newdoc\n",
      "# newpar\n",
      "# sent_id = 1\n",
      "# text = Заходит она в трамвай, подходит к компостеру, открывает сумку, достает кошелку, закрывает сумку, открывает кошелку, достает кошелек, закрывает кошелку, открывает сумку, убирает кошелку, закрывает сумку, открывает кошелек, достает билетик...\n",
      "1\tЗаходит\tЗаХОДИТЬ\tVERB\tVBC\tAspect=Imp|Mood=Ind|Number=Sing|Person=3|Tense=Pres|VerbForm=Fin\t0\troot\t_\tSpacesBefore=\\n\n",
      "2\tона\tОНА\tPRON\tPRP\tCase=Nom|Gender=Fem|Number=Sing|Person=3\t1\tnsubj\t_\t_\n",
      "3\tв\tВ\tADP\tIN\t_\t4\tcase\t_\t_\n",
      "4\tтрамвай\tтрамвай\tNOUN\tNN\tAnimacy=Inan|Case=Acc|Gender=Masc|Number=Sing\t1\tobl\t_\tSpaceAfter=No\n",
      "5\t,\t,\tPUNCT\t,\t_\t6\tpunct\t_\t_\n",
      "6\tподходит\tПОДХОДИТЬ\tVERB\tVBC\tAspect=Imp|Mood=Ind|Number=Sing|Person=3|Tense=Pres|VerbForm=Fin\t1\tconj\t_\t_\n",
      "7\tк\tК\tADP\tIN\t_\t8\tcase\t_\t_\n",
      "8\tкомпостеру\tкомпостЕРУ\tNOUN\tNN\tAnimacy=Inan|Case=Dat|Gender=Masc|Number=Sing\t6\tobl\t_\tSpaceAfter=No\n",
      "9\t,\t,\tPUNCT\t,\t_\t10\tpunct\t_\t_\n",
      "10\tоткрывает\tОТКРЫВАТЬ\tVERB\tVBC\tAspect=Imp|Mood=Ind|Number=Sing|Person=3|Tense=Pres|VerbForm=Fin\t1\tconj\t_\t_\n",
      "11\tсумку\tсумку\tNOUN\tNN\tAnimacy=Inan|Case=Acc|Gender=Fem|Number=Sing\t10\tobj\t_\tSpaceAfter=No\n",
      "12\t,\t,\tPUNCT\t,\t_\t13\tpunct\t_\t_\n",
      "13\tдостает\tдостает\tVERB\tVBC\tAspect=Imp|Mood=Ind|Number=Sing|Person=3|Tense=Pres|VerbForm=Fin\t1\tconj\t_\t_\n",
      "14\tкошелку\tкошелку\tNOUN\tNN\tAnimacy=Inan|Case=Acc|Gender=Fem|Number=Sing\t13\tobj\t_\tSpaceAfter=No\n",
      "15\t,\t,\tPUNCT\t,\t_\t16\tpunct\t_\t_\n",
      "16\tзакрывает\tзакрывает\tVERB\tVBC\tAspect=Imp|Mood=Ind|Number=Sing|Person=3|Tense=Pres|VerbForm=Fin\t1\tconj\t_\t_\n",
      "17\tсумку\tсумку\tNOUN\tNN\tAnimacy=Inan|Case=Acc|Gender=Fem|Number=Sing\t16\tobj\t_\tSpaceAfter=No\n",
      "18\t,\t,\tPUNCT\t,\t_\t19\tpunct\t_\t_\n",
      "19\tоткрывает\tОТКРЫВАТЬ\tVERB\tVBC\tAspect=Imp|Mood=Ind|Number=Sing|Person=3|Tense=Pres|VerbForm=Fin\t1\tconj\t_\t_\n",
      "20\tкошелку\tкошелку\tNOUN\tNN\tAnimacy=Inan|Case=Acc|Gender=Fem|Number=Sing\t19\tobj\t_\tSpaceAfter=No\n",
      "21\t,\t,\tPUNCT\t,\t_\t22\tpunct\t_\tSpacesAfter=\\n\n",
      "22\tдостает\tдостает\tVERB\tVBC\tAspect=Imp|Mood=Ind|Number=Sing|Person=3|Tense=Pres|VerbForm=Fin\t1\tconj\t_\t_\n",
      "23\tкошелек\tкошелек\tNOUN\tNN\tAnimacy=Inan|Case=Acc|Gender=Masc|Number=Sing\t22\tobj\t_\tSpaceAfter=No\n",
      "24\t,\t,\tPUNCT\t,\t_\t25\tpunct\t_\t_\n",
      "25\tзакрывает\tзакрывает\tVERB\tVBC\tAspect=Imp|Mood=Ind|Number=Sing|Person=3|Tense=Pres|VerbForm=Fin\t1\tconj\t_\t_\n",
      "26\tкошелку\tкошелку\tNOUN\tNN\tAnimacy=Inan|Case=Acc|Gender=Fem|Number=Sing\t25\tobj\t_\tSpaceAfter=No\n",
      "27\t,\t,\tPUNCT\t,\t_\t28\tpunct\t_\t_\n",
      "28\tоткрывает\tОТКРЫВАТЬ\tVERB\tVBC\tAspect=Imp|Mood=Ind|Number=Sing|Person=3|Tense=Pres|VerbForm=Fin\t1\tconj\t_\t_\n",
      "29\tсумку\tсумку\tNOUN\tNN\tAnimacy=Inan|Case=Acc|Gender=Fem|Number=Sing\t28\tobj\t_\tSpaceAfter=No\n",
      "30\t,\t,\tPUNCT\t,\t_\t31\tpunct\t_\t_\n",
      "31\tубирает\tубирает\tVERB\tVBC\tAspect=Imp|Mood=Ind|Number=Sing|Person=3|Tense=Pres|VerbForm=Fin\t1\tconj\t_\t_\n",
      "32\tкошелку\tкошелку\tNOUN\tNN\tAnimacy=Inan|Case=Acc|Gender=Fem|Number=Sing\t31\tobj\t_\tSpaceAfter=No\n",
      "33\t,\t,\tPUNCT\t,\t_\t34\tpunct\t_\t_\n",
      "34\tзакрывает\tзакрывает\tVERB\tVBC\tAspect=Imp|Mood=Ind|Number=Sing|Person=3|Tense=Pres|VerbForm=Fin\t1\tconj\t_\t_\n",
      "35\tсумку\tсумку\tNOUN\tNN\tAnimacy=Inan|Case=Acc|Gender=Fem|Number=Sing\t34\tobj\t_\tSpaceAfter=No\n",
      "36\t,\t,\tPUNCT\t,\t_\t37\tpunct\t_\t_\n",
      "37\tоткрывает\tОТКРЫВАТЬ\tVERB\tVBC\tAspect=Imp|Mood=Ind|Number=Sing|Person=3|Tense=Pres|VerbForm=Fin\t1\tconj\t_\t_\n",
      "38\tкошелек\tкошелек\tNOUN\tNN\tAnimacy=Inan|Case=Acc|Gender=Masc|Number=Sing\t37\tobj\t_\tSpaceAfter=No\n",
      "39\t,\t,\tPUNCT\t,\t_\t40\tpunct\t_\t_\n",
      "40\tдостает\tдостает\tVERB\tVBC\tAspect=Imp|Mood=Ind|Number=Sing|Person=3|Tense=Pres|VerbForm=Fin\t1\tconj\t_\tSpacesAfter=\\s\\n\n",
      "41\tбилетик\tбилетик\tNOUN\tNN\tAnimacy=Inan|Case=Acc|Gender=Masc|Number=Sing\t40\tobj\t_\tSpaceAfter=No\n",
      "42\t.\t.\tPUNCT\t.\t_\t40\tpunct\t_\tSpaceAfter=No\n",
      "43\t.\t.\tPUNCT\t.\t_\t1\tpunct\t_\tSpaceAfter=No\n",
      "44\t.\t.\tPUNCT\t.\t_\t1\tpunct\t_\tSpacesAfter=\\n\n",
      "\n",
      "\n"
     ]
    }
   ],
   "source": [
    "print(pipeline.process(sent))"
   ]
  },
  {
   "cell_type": "markdown",
   "metadata": {},
   "source": [
    "В таком случае очень много частей предложения, соединённых связью `conj` — ей обозначаются однородные члены предложения. В таком случае можно просто посчитать количество таких связей, и если оно больше какой-нибудь величины (например, три на предложение), то выдать пользователю предупреждение наподобие Главреда.\n",
    "\n",
    "![](img/glavred.png)\n",
    "\n",
    "Можно усложнить этот критерий, проверив, не состоит ли предложение из большого числа однородных предложений. Для этого необходимо узнать, являются ли однородные члены глаголами."
   ]
  },
  {
   "cell_type": "code",
   "execution_count": null,
   "metadata": {},
   "outputs": [],
   "source": [
    "# YOUR CODE HERE"
   ]
  },
  {
   "cell_type": "markdown",
   "metadata": {},
   "source": [
    "### Парцелляция\n",
    "\n",
    "Ещё одна проблема, на которую обращают внимание в Главреде — [парцелляция](http://maximilyahov.ru/blog/all/parcel/). Часто она делает предложения менее читаемыми.\n",
    "\n",
    "По словам Главреда,\n",
    "> Признак парцелляции — предложение синтаксически неполное и само по себе не имеет смысла.\n",
    "\n",
    "Например, в предложении нет субъекта:"
   ]
  },
  {
   "cell_type": "code",
   "execution_count": 39,
   "metadata": {},
   "outputs": [
    {
     "name": "stdout",
     "output_type": "stream",
     "text": [
      "# newdoc\n",
      "# newpar\n",
      "# sent_id = 1\n",
      "# text = Часто умывается, а полотенцем не утирается.\n",
      "1\tЧасто\tЧаСТО\tADV\tRB\t_\t2\tadvmod\t_\t_\n",
      "2\tумывается\tумывается\tVERB\tVBC\tAspect=Imp|Mood=Ind|Number=Sing|Person=3|Tense=Pres|VerbForm=Fin|Voice=Mid\t0\troot\t_\tSpaceAfter=No\n",
      "3\t,\t,\tPUNCT\t,\t_\t7\tpunct\t_\t_\n",
      "4\tа\tА\tCCONJ\tCC\t_\t7\tcc\t_\t_\n",
      "5\tполотенцем\tполотенцем\tADV\tRB\t_\t7\tadvmod\t_\t_\n",
      "6\tне\tНЕ\tPART\tNEG\tPolarity=Neg\t7\tadvmod\t_\t_\n",
      "7\tутирается\tутирается\tVERB\tVBC\tAspect=Imp|Mood=Ind|Number=Sing|Person=3|Tense=Pres|VerbForm=Fin|Voice=Mid\t2\tconj\t_\tSpaceAfter=No\n",
      "8\t.\t.\tPUNCT\t.\t_\t2\tpunct\t_\tSpacesAfter=\\n\n",
      "\n",
      "\n"
     ]
    }
   ],
   "source": [
    "sent = 'Часто умывается, а полотенцем не утирается.'\n",
    "print(pipeline.process(sent))"
   ]
  },
  {
   "cell_type": "markdown",
   "metadata": {},
   "source": [
    "Напишите функцию, которая помогает обнаруживать парцелляцию, опираясь на то, что предложение неполное."
   ]
  },
  {
   "cell_type": "code",
   "execution_count": null,
   "metadata": {},
   "outputs": [],
   "source": [
    "# YOUR CODE HERE"
   ]
  },
  {
   "cell_type": "markdown",
   "metadata": {},
   "source": [
    "Придумайте метрику для оценки качества предложений на основе написаных функций. Напишите функцию-оцениватель. Пусть она принимает на вход предложение, а возвращает оценку от 1 до 10."
   ]
  },
  {
   "cell_type": "code",
   "execution_count": null,
   "metadata": {},
   "outputs": [],
   "source": [
    "# YOUR CODE HERE"
   ]
  },
  {
   "cell_type": "markdown",
   "metadata": {},
   "source": [
    "## SVO-triples\n",
    "\n",
    "С помощью синтекстического парсинга можно извлекать из предложений тройки субъект-объект-глагол, которые можно использовать для извлечения информации из текста. В этом поможет уже упоминавшийся выше `DependencyGraph` из `nltk`. "
   ]
  },
  {
   "cell_type": "code",
   "execution_count": 47,
   "metadata": {},
   "outputs": [],
   "source": [
    "sent = \"\"\"1\tСобянин\t_\tNOUN\t_\tAnimacy=Anim|Case=Nom|Gender=Masc|Number=Sing|fPOS=NOUN++\t2\tnsubj\t_\t_\n",
    "2\tоткрыл\t_\tVERB\t_\tAspect=Perf|Gender=Masc|Mood=Ind|Number=Sing|Tense=Past|VerbForm=Fin|Voice=Act|fPOS=VERB++\t0\tROOT\t_\t_\n",
    "3\tновый\t_\tADJ\t_\tAnimacy=Inan|Case=Acc|Degree=Pos|Gender=Masc|Number=Sing|fPOS=ADJ++\t4\tamod\t_\t_\n",
    "4\tпарк\t_\tNOUN\t_\tAnimacy=Inan|Case=Acc|Gender=Masc|Number=Sing|fPOS=NOUN++\t2\tdobj\t_\t_\n",
    "5\tи\t_\tCONJ\t_\tfPOS=CONJ++\t4\tcc\t_\t_\n",
    "6\tдетскую\t_\tADJ\t_\tCase=Acc|Degree=Pos|Gender=Fem|Number=Sing|fPOS=ADJ++\t7\tamod\t_\t_\n",
    "7\tплощадку\t_\tNOUN\t_\tAnimacy=Inan|Case=Acc|Gender=Fem|Number=Sing|fPOS=NOUN++\t4\tconj\t_\t_\n",
    "8\t.\t_\tPUNCT\t.\tfPOS=PUNCT++.\t2\tpunct\t_\t_\"\"\""
   ]
  },
  {
   "cell_type": "markdown",
   "metadata": {},
   "source": [
    "#### слово-слово-связь"
   ]
  },
  {
   "cell_type": "code",
   "execution_count": 48,
   "metadata": {},
   "outputs": [
    {
     "data": {
      "text/plain": [
       "[(('открыл', 'VERB'), 'nsubj', ('Собянин', 'NOUN')),\n",
       " (('открыл', 'VERB'), 'dobj', ('парк', 'NOUN')),\n",
       " (('парк', 'NOUN'), 'amod', ('новый', 'ADJ')),\n",
       " (('парк', 'NOUN'), 'cc', ('и', 'CONJ')),\n",
       " (('парк', 'NOUN'), 'conj', ('площадку', 'NOUN')),\n",
       " (('площадку', 'NOUN'), 'amod', ('детскую', 'ADJ')),\n",
       " (('открыл', 'VERB'), 'punct', ('.', 'PUNCT'))]"
      ]
     },
     "execution_count": 48,
     "metadata": {},
     "output_type": "execute_result"
    }
   ],
   "source": [
    "graph = DependencyGraph(tree_str=sent)\n",
    "list(graph.triples())"
   ]
  },
  {
   "cell_type": "markdown",
   "metadata": {},
   "source": [
    "#### субьект-объект-глагол"
   ]
  },
  {
   "cell_type": "code",
   "execution_count": 49,
   "metadata": {},
   "outputs": [
    {
     "name": "stdout",
     "output_type": "stream",
     "text": [
      "{'открыл': {'subj': 'Собянин', 'obj': 'парк'}}\n"
     ]
    }
   ],
   "source": [
    "def get_sov(sent):\n",
    "    graph = DependencyGraph(tree_str=sent)\n",
    "    sov = {}\n",
    "    for triple in graph.triples():\n",
    "        if triple:\n",
    "            if triple[0][1] == 'VERB':\n",
    "                sov[triple[0][0]] = {'subj':'','obj':''}\n",
    "    for triple in graph.triples():\n",
    "        if triple:\n",
    "            if triple[1] == 'nsubj':\n",
    "                if triple[0][1] == 'VERB':\n",
    "                    sov[triple[0][0]]['subj']  = triple[2][0]\n",
    "            if triple[1] == 'dobj':\n",
    "                if triple[0][1] == 'VERB':\n",
    "                    sov[triple[0][0]]['obj'] = triple[2][0]\n",
    "    return sov\n",
    "\n",
    "sov = get_sov(sent)\n",
    "print(sov)"
   ]
  },
  {
   "cell_type": "markdown",
   "metadata": {},
   "source": [
    "### Задание\n",
    "\n",
    "Измените код выше так, чтобы учитывались:\n",
    "1. Однородные члены предложения: *(парк, площадка), (Германия, Щвейцария)*\n",
    "2. Сложные сказуемые: *(начнет продавать), (запретил провозить)*\n",
    "3. Непрямые объекты: *(едет, Польшу), (спел, скандале)*"
   ]
  }
 ],
 "metadata": {
  "kernelspec": {
   "display_name": "Python 3",
   "language": "python",
   "name": "python3"
  },
  "language_info": {
   "codemirror_mode": {
    "name": "ipython",
    "version": 3
   },
   "file_extension": ".py",
   "mimetype": "text/x-python",
   "name": "python",
   "nbconvert_exporter": "python",
   "pygments_lexer": "ipython3",
   "version": "3.6.7"
  }
 },
 "nbformat": 4,
 "nbformat_minor": 2
}
